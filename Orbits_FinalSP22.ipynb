{
 "cells": [
  {
   "cell_type": "markdown",
   "metadata": {},
   "source": [
    "# Physics 5300 Final SP22\n",
    "# Gravitational Orbits in Cartesian Coordinates.\n"
   ]
  },
  {
   "cell_type": "code",
   "execution_count": 42,
   "metadata": {},
   "outputs": [],
   "source": [
    "import numpy as np\n",
    "import matplotlib.pyplot as plt\n",
    "from scipy.integrate import solve_ivp"
   ]
  },
  {
   "cell_type": "code",
   "execution_count": 43,
   "metadata": {},
   "outputs": [],
   "source": [
    "# Change the common font size\n",
    "font_size = 14\n",
    "plt.rcParams.update({'font.size': font_size})"
   ]
  },
  {
   "cell_type": "code",
   "execution_count": 44,
   "metadata": {
    "code_folding": []
   },
   "outputs": [],
   "source": [
    "class GravOrbits():\n",
    "    \"\"\"\n",
    "    This class implements the parameters and Lagrange's equations for two particles orbiting under gravity.\n",
    "    \n",
    "    Parameters\n",
    "    ---------- \n",
    "    m_1 : float\n",
    "    m_2 : float\n",
    "    G : float\n",
    "\n",
    "    Methods\n",
    "    -------\n",
    "    dy_dt(t, y)\n",
    "        Returns the right side of the differential equation in vector y, \n",
    "        given time t and the corresponding value of y.\n",
    "    \"\"\"\n",
    "    \n",
    "    def __init__(self, m_1=1., m_2=1., G=1.):\n",
    "        self.m_1 = m_1\n",
    "        self.m_2 = m_2\n",
    "        self.G = G\n",
    "\n",
    "        \n",
    "    def dz_dt(self, t, z):\n",
    "        \"\"\"\n",
    "        This function returns the right-hand side of the diffeq: \n",
    "        [dz/dt d^2z/dt^2]\n",
    "        \n",
    "        Parameters\n",
    "        ----------\n",
    "        t : float\n",
    "            time \n",
    "        z : float\n",
    "            An 8-component vector with \n",
    "                    z[0] = x_1(t) and z[1] = x_dot_1(t)\n",
    "                    z[2] = y_1(t) and z[3] = y_dot_1(t)\n",
    "                    z[4] = x_2(t) and z[5] = x_dot_2(t)\n",
    "                    z[6] = y_2(t) and z[7] = y_dot_2(t)\n",
    "\n",
    "        Returns\n",
    "        -------\n",
    "            \n",
    "        \"\"\"\n",
    "\n",
    "        r_12 = np.sqrt( (z[0] - z[4])**2 + (z[2] - z[6])**2)\n",
    "\n",
    "\n",
    "        return [ \\\n",
    "                z[1], self.G * self.m_2 * (z[4] - z[0]) / r_12**3, \\\n",
    "                z[3], self.G * self.m_2 * (z[6] - z[2]) / r_12**3, \\\n",
    "                z[5], -self.G * self.m_1 * (z[4] - z[0]) / r_12**3, \\\n",
    "                z[7], -self.G * self.m_1 * (z[6] - z[2]) / r_12**3, \\\n",
    "                ]    \n",
    "    \n",
    "    def solve_ode(self, t_pts, z_0, \n",
    "                  abserr=1.0e-8, relerr=1.0e-8):\n",
    "        \"\"\"\n",
    "        Solve the ODE given initial conditions.\n",
    "        Specify smaller abserr and relerr to get more precision.\n",
    "        \"\"\"\n",
    "        solution = solve_ivp(self.dz_dt, (t_pts[0], t_pts[-1]), \n",
    "                             z_0, t_eval=t_pts, method='RK23', \n",
    "                             atol=abserr, rtol=relerr)\n",
    "        x_1, x_dot_1, y_1, y_dot_1, x_2, x_dot_2, y_2, y_dot_2 = solution.y\n",
    "        return x_1, x_dot_1, y_1, y_dot_1, x_2, x_dot_2, y_2, y_dot_2      "
   ]
  },
  {
   "cell_type": "code",
   "execution_count": 45,
   "metadata": {},
   "outputs": [],
   "source": [
    "def plot_y_vs_x(x, y, axis_labels=None, label=None, title=None, \n",
    "                color=None, linestyle=None, semilogy=False, loglog=False,\n",
    "                ax=None):\n",
    "    \"\"\"\n",
    "    Generic plotting function: return a figure axis with a plot of y vs. x,\n",
    "    with line color and style, title, axis labels, and line label\n",
    "    \"\"\"\n",
    "    if ax is None:        # if the axis object doesn't exist, make one\n",
    "        ax = plt.gca()\n",
    "\n",
    "    if (semilogy):\n",
    "        line, = ax.semilogy(x, y, label=label, \n",
    "                            color=color, linestyle=linestyle)\n",
    "    elif (loglog):\n",
    "        line, = ax.loglog(x, y, label=label, \n",
    "                          color=color, linestyle=linestyle)\n",
    "    else:\n",
    "        line, = ax.plot(x, y, label=label, \n",
    "                    color=color, linestyle=linestyle)\n",
    "\n",
    "    if label is not None:    # if a label if passed, show the legend\n",
    "        ax.legend()\n",
    "    if title is not None:    # set a title if one if passed\n",
    "        ax.set_title(title)\n",
    "    if axis_labels is not None:  # set x-axis and y-axis labels if passed  \n",
    "        ax.set_xlabel(axis_labels[0])\n",
    "        ax.set_ylabel(axis_labels[1])\n",
    "\n",
    "    return ax, line"
   ]
  },
  {
   "cell_type": "code",
   "execution_count": 46,
   "metadata": {},
   "outputs": [],
   "source": [
    "def start_stop_indices(t_pts, plot_start, plot_stop):\n",
    "    start_index = (np.fabs(t_pts-plot_start)).argmin()  # index in t_pts array \n",
    "    stop_index = (np.fabs(t_pts-plot_stop)).argmin()  # index in t_pts array \n",
    "    return start_index, stop_index"
   ]
  },
  {
   "cell_type": "markdown",
   "metadata": {},
   "source": [
    "# Simple Orbit Plot"
   ]
  },
  {
   "cell_type": "code",
   "execution_count": 47,
   "metadata": {},
   "outputs": [],
   "source": [
    "# Labels for plot axes\n",
    "orbit_labels = (r'$x$', r'$y$')\n",
    "\n",
    "# Plotting time\n",
    "t_start = 0.\n",
    "t_end = 10.\n",
    "delta_t = 0.01\n",
    "\n",
    "t_pts = np.arange(t_start, t_end+delta_t, delta_t)"
   ]
  },
  {
   "cell_type": "code",
   "execution_count": 48,
   "metadata": {},
   "outputs": [
    {
     "data": {
      "image/png": "[encoded data removed]",
      "text/plain": [
       "<Figure size 360x360 with 1 Axes>"
      ]
     },
     "metadata": {
      "needs_background": "light"
     },
     "output_type": "display_data"
    }
   ],
   "source": [
    "# Common plotting time\n",
    "t_start = 0.\n",
    "t_end = 10.\n",
    "delta_t = 0.01\n",
    "\n",
    "G = 1.\n",
    "m_1 = 1.\n",
    "m_2 = 5.\n",
    "\n",
    "# Instantiate a set of orbits\n",
    "o1 = GravOrbits(m_1, m_2, G)\n",
    "\n",
    "# Initial conditions \n",
    "x_1_0, x_dot_1_0 = 1., -1.\n",
    "y_1_0, y_dot_1_0 = 1., 1.\n",
    "x_2_0, x_dot_2_0 = -(m_1 / m_2) * x_1_0, -(m_1 / m_2) * x_dot_1_0\n",
    "y_2_0, y_dot_2_0 = -(m_1 / m_2) * y_1_0, -(m_1 / m_2) * y_dot_1_0\n",
    "\n",
    "z_0 = [x_1_0, x_dot_1_0, y_1_0, y_dot_1_0, \\\n",
    "       x_2_0, x_dot_2_0, y_2_0, y_dot_2_0]\n",
    "x_1, x_dot_1, y_1, y_dot_1, x_2, x_dot_2, y_2, y_dot_2 = \\\n",
    "            o1.solve_ode(t_pts, z_0)\n",
    "\n",
    "# Start Plot\n",
    "fig = plt.figure(figsize=(5,5))\n",
    "\n",
    "# First plot\n",
    "ax = fig.add_subplot(1,1,1)\n",
    "\n",
    "start, stp = start_stop_indices(t_pts, t_start, t_end)\n",
    "ax.plot(x_1, y_1, color='blue', label=r'$m_1$')\n",
    "ax.plot(x_2, y_2, color='red', label=r'$m_2$')\n",
    "ax.set_title('Simple gravitational orbit')\n",
    "ax.legend()\n",
    "ax.set_aspect(1)\n",
    "\n",
    "fig.tight_layout()\n",
    "fig.savefig('Simple_orbit_final.png', bbox_inches='tight')"
   ]
  },
  {
   "cell_type": "code",
   "execution_count": 49,
   "metadata": {},
   "outputs": [
    {
     "data": {
      "image/png": "[encoded data removed]",
      "text/plain": [
       "<Figure size 360x360 with 1 Axes>"
      ]
     },
     "metadata": {
      "needs_background": "light"
     },
     "output_type": "display_data"
    }
   ],
   "source": [
    "# Different initial conditions\n",
    "# Common plotting time\n",
    "t_start = 0.\n",
    "t_end = 10.\n",
    "delta_t = 0.01\n",
    "\n",
    "G = 1.\n",
    "m_1 = 5.\n",
    "m_2 = 20.\n",
    "\n",
    "# Instantiate a set of orbits\n",
    "o1 = GravOrbits(m_1, m_2, G)\n",
    "\n",
    "# Initial conditions \n",
    "x_1_0, x_dot_1_0 = 1., -1.\n",
    "y_1_0, y_dot_1_0 = 1., 1.\n",
    "x_2_0, x_dot_2_0 = -(m_1 / m_2) * x_1_0, -(m_1 / m_2) * x_dot_1_0\n",
    "y_2_0, y_dot_2_0 = -(m_1 / m_2) * y_1_0, -(m_1 / m_2) * y_dot_1_0\n",
    "\n",
    "z_0 = [x_1_0, x_dot_1_0, y_1_0, y_dot_1_0, \\\n",
    "       x_2_0, x_dot_2_0, y_2_0, y_dot_2_0]\n",
    "x_1, x_dot_1, y_1, y_dot_1, x_2, x_dot_2, y_2, y_dot_2 = \\\n",
    "            o1.solve_ode(t_pts, z_0)\n",
    "\n",
    "# Start Plot\n",
    "fig = plt.figure(figsize=(5,5))\n",
    "\n",
    "# First plot\n",
    "ax = fig.add_subplot(1,1,1)\n",
    "\n",
    "start, stp = start_stop_indices(t_pts, t_start, t_end)\n",
    "ax.plot(x_1, y_1, color='blue', label=r'$m_1$')\n",
    "ax.plot(x_2, y_2, color='red', label=r'$m_2$')\n",
    "ax.set_title('Simple gravitational orbit')\n",
    "ax.legend()\n",
    "ax.set_aspect(1)\n",
    "\n",
    "fig.tight_layout()\n",
    "fig.savefig('Simple_orbit_final_2.png', bbox_inches='tight')"
   ]
  },
  {
   "cell_type": "code",
   "execution_count": 50,
   "metadata": {},
   "outputs": [
    {
     "data": {
      "image/png": "[encoded data removed]",
      "text/plain": [
       "<Figure size 360x360 with 1 Axes>"
      ]
     },
     "metadata": {
      "needs_background": "light"
     },
     "output_type": "display_data"
    }
   ],
   "source": [
    "# Different initial conditions, one mass very heavy\n",
    "# Common plotting time\n",
    "t_start = 0.\n",
    "t_end = 10.\n",
    "delta_t = 0.01\n",
    "\n",
    "G = 1.\n",
    "m_1 = 1.\n",
    "m_2 = 20.\n",
    "\n",
    "# Instantiate a set of orbits\n",
    "o1 = GravOrbits(m_1, m_2, G)\n",
    "\n",
    "# Initial conditions \n",
    "x_1_0, x_dot_1_0 = 1., -1.\n",
    "y_1_0, y_dot_1_0 = 1., 1.\n",
    "x_2_0, x_dot_2_0 = -(m_1 / m_2) * x_1_0, -(m_1 / m_2) * x_dot_1_0\n",
    "y_2_0, y_dot_2_0 = -(m_1 / m_2) * y_1_0, -(m_1 / m_2) * y_dot_1_0\n",
    "\n",
    "z_0 = [x_1_0, x_dot_1_0, y_1_0, y_dot_1_0, \\\n",
    "       x_2_0, x_dot_2_0, y_2_0, y_dot_2_0]\n",
    "x_1, x_dot_1, y_1, y_dot_1, x_2, x_dot_2, y_2, y_dot_2 = \\\n",
    "            o1.solve_ode(t_pts, z_0)\n",
    "\n",
    "# Start Plot\n",
    "fig = plt.figure(figsize=(5,5))\n",
    "\n",
    "# First plot\n",
    "ax = fig.add_subplot(1,1,1)\n",
    "\n",
    "start, stp = start_stop_indices(t_pts, t_start, t_end)\n",
    "ax.plot(x_1, y_1, color='blue', label=r'$m_1$')\n",
    "ax.plot(x_2, y_2, color='red', label=r'$m_2$')\n",
    "ax.set_title('Simple gravitational orbit')\n",
    "ax.legend()\n",
    "ax.set_aspect(1)\n",
    "\n",
    "fig.tight_layout()\n",
    "fig.savefig('Simple_orbit_final_3.png', bbox_inches='tight')"
   ]
  }
 ],
 "metadata": {
  "kernelspec": {
   "display_name": "Python 3 (ipykernel)",
   "language": "python",
   "name": "python3"
  },
  "language_info": {
   "codemirror_mode": {
    "name": "ipython",
    "version": 3
   },
   "file_extension": ".py",
   "mimetype": "text/x-python",
   "name": "python",
   "nbconvert_exporter": "python",
   "pygments_lexer": "ipython3",
   "version": "3.9.12"
  }
 },
 "nbformat": 4,
 "nbformat_minor": 2
}
